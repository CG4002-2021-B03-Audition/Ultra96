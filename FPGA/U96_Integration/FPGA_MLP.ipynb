{
 "cells": [
  {
   "cell_type": "code",
   "execution_count": 1,
   "metadata": {},
   "outputs": [
    {
     "data": {
      "application/javascript": [
       "\n",
       "try {\n",
       "require(['notebook/js/codecell'], function(codecell) {\n",
       "  codecell.CodeCell.options_default.highlight_modes[\n",
       "      'magic_text/x-csrc'] = {'reg':[/^%%microblaze/]};\n",
       "  Jupyter.notebook.events.one('kernel_ready.Kernel', function(){\n",
       "      Jupyter.notebook.get_cells().map(function(cell){\n",
       "          if (cell.cell_type == 'code'){ cell.auto_highlight(); } }) ;\n",
       "  });\n",
       "});\n",
       "} catch (e) {};\n"
      ]
     },
     "metadata": {},
     "output_type": "display_data"
    },
    {
     "data": {
      "application/javascript": [
       "\n",
       "try {\n",
       "require(['notebook/js/codecell'], function(codecell) {\n",
       "  codecell.CodeCell.options_default.highlight_modes[\n",
       "      'magic_text/x-csrc'] = {'reg':[/^%%pybind11/]};\n",
       "  Jupyter.notebook.events.one('kernel_ready.Kernel', function(){\n",
       "      Jupyter.notebook.get_cells().map(function(cell){\n",
       "          if (cell.cell_type == 'code'){ cell.auto_highlight(); } }) ;\n",
       "  });\n",
       "});\n",
       "} catch (e) {};\n"
      ]
     },
     "metadata": {},
     "output_type": "display_data"
    }
   ],
   "source": [
    "from pynq import allocate\n",
    "from pynq import Overlay\n",
    "import numpy as np\n",
    "import pynq.lib.dma\n",
    "import time"
   ]
  },
  {
   "cell_type": "code",
   "execution_count": 2,
   "metadata": {},
   "outputs": [],
   "source": [
    "weight_0 = np.load('weights/weight_0.npy')\n",
    "weight_1 = np.load('weights/weight_1.npy')\n",
    "weight_2 = np.load('weights/weight_2.npy')\n",
    "weight_3 = np.load('weights/weight_3.npy')\n",
    "bias_0 = np.load('weights/bias_0.npy')\n",
    "bias_1 = np.load('weights/bias_1.npy')\n",
    "bias_2 = np.load('weights/bias_2.npy')\n",
    "bias_3 = np.load('weights/bias_3.npy')"
   ]
  },
  {
   "cell_type": "code",
   "execution_count": 3,
   "metadata": {},
   "outputs": [],
   "source": [
    "test = np.loadtxt(\"dataset/test.csv\", delimiter=',', skiprows=1, usecols=np.arange(0,561))"
   ]
  },
  {
   "cell_type": "code",
   "execution_count": 45,
   "metadata": {},
   "outputs": [
    {
     "data": {
      "text/plain": [
       "(1000, 561)"
      ]
     },
     "execution_count": 45,
     "metadata": {},
     "output_type": "execute_result"
    }
   ],
   "source": [
    "test_size = 1000\n",
    "np.random.seed(2)\n",
    "a = np.arange(2000)\n",
    "np.random.shuffle(a)\n",
    "a = a[:test_size]\n",
    "testset = test[a]\n",
    "testset.shape"
   ]
  },
  {
   "cell_type": "code",
   "execution_count": 29,
   "metadata": {},
   "outputs": [],
   "source": [
    "overlay = Overlay('bitstream.bit')   # load bitstream inside FPGA\n",
    "dma = overlay.axi_dma_0         # define module DMA"
   ]
  },
  {
   "cell_type": "code",
   "execution_count": 30,
   "metadata": {},
   "outputs": [],
   "source": [
    "input_buffer0 = allocate(shape=(561,), dtype=np.float32)\n",
    "input_buffer1 = allocate(shape=(64,), dtype=np.float32)\n",
    "input_buffer2 = allocate(shape=(6,), dtype=np.float32)\n",
    "output_buffer0 = allocate(shape=(6,), dtype=np.float32)"
   ]
  },
  {
   "cell_type": "code",
   "execution_count": 31,
   "metadata": {},
   "outputs": [],
   "source": [
    "##weights\n",
    "for i in range(64):\n",
    "    for k in range(561):\n",
    "        input_buffer0[k] = weight_0[k][i]\n",
    "    dma.sendchannel.transfer(input_buffer0)\n",
    "    dma.sendchannel.wait()\n",
    "for i in range(64):\n",
    "    for k in range(64):\n",
    "        input_buffer1[k] = weight_1[k][i]\n",
    "    dma.sendchannel.transfer(input_buffer1)\n",
    "    dma.sendchannel.wait()\n",
    "for i in range(64):\n",
    "    for k in range(64):\n",
    "        input_buffer1[k] = weight_2[k][i]\n",
    "    dma.sendchannel.transfer(input_buffer1)\n",
    "    dma.sendchannel.wait()\n",
    "for i in range(6):\n",
    "    for k in range(64):\n",
    "        input_buffer1[k] = weight_3[k][i]\n",
    "    dma.sendchannel.transfer(input_buffer1)\n",
    "    dma.sendchannel.wait()\n",
    "##bias\n",
    "for k in range(64):\n",
    "    input_buffer1[k] = bias_0[k]\n",
    "dma.sendchannel.transfer(input_buffer1)\n",
    "dma.sendchannel.wait()\n",
    "for k in range(64):\n",
    "    input_buffer1[k] = bias_1[k]\n",
    "dma.sendchannel.transfer(input_buffer1)\n",
    "dma.sendchannel.wait()\n",
    "for k in range(64):\n",
    "    input_buffer1[k] = bias_2[k]\n",
    "dma.sendchannel.transfer(input_buffer1)\n",
    "dma.sendchannel.wait()\n",
    "for k in range(6):\n",
    "    input_buffer2[k] = bias_3[k]\n",
    "dma.sendchannel.transfer(input_buffer2)\n",
    "dma.sendchannel.wait()"
   ]
  },
  {
   "cell_type": "code",
   "execution_count": 46,
   "metadata": {},
   "outputs": [],
   "source": [
    "result = np.array([0.0, 0.0, 0.0, 0.0, 0.0, 0.0])\n",
    "timestart = time.time()\n",
    "for i in range(test_size):\n",
    "    for j in range(561):\n",
    "        input_buffer0[j] = testset[i][j];\n",
    "    dma.sendchannel.transfer(input_buffer0)\n",
    "    dma.sendchannel.wait()\n",
    "    dma.recvchannel.transfer(output_buffer0)\n",
    "    dma.recvchannel.wait()\n",
    "    result = np.row_stack((result, output_buffer0))\n",
    "timeend = time.time()"
   ]
  },
  {
   "cell_type": "code",
   "execution_count": 47,
   "metadata": {},
   "outputs": [
    {
     "data": {
      "text/plain": [
       "array([4, 1, 0, 3, 4, 3, 5, 0, 2, 3, 3, 1, 3, 0, 0, 4, 3, 3, 3, 4, 2, 5,\n",
       "       0, 1, 0, 2, 1, 1, 2, 5, 0, 0, 1, 2, 0, 0, 5, 1, 2, 5, 3, 1, 4, 1,\n",
       "       0, 3, 0, 1, 1, 0, 2, 1, 3, 2, 0, 5, 4, 1, 3, 2, 5, 4, 2, 0, 5, 4,\n",
       "       4, 2, 1, 0, 1, 2, 1, 3, 4, 5, 0, 5, 3, 1, 3, 4, 4, 3, 3, 3, 3, 0,\n",
       "       1, 4, 3, 2, 2, 1, 3, 5, 5, 2, 2, 1, 3, 0, 0, 3, 5, 1, 3, 2, 0, 5,\n",
       "       5, 1, 1, 2, 5, 3, 3, 5, 4, 2, 2, 3, 1, 4, 4, 4, 5, 0, 0, 3, 4, 5,\n",
       "       5, 1, 4, 3, 1, 0, 0, 2, 1, 5, 3, 0, 2, 2, 1, 1, 5, 2, 3, 2, 3, 3,\n",
       "       0, 3, 2, 1, 3, 3, 4, 5, 2, 2, 4, 0, 3, 5, 4, 0, 4, 2, 3, 2, 1, 1,\n",
       "       1, 1, 0, 5, 0, 0, 5, 5, 5, 5, 5, 0, 1, 3, 5, 5, 1, 0, 0, 2, 4, 1,\n",
       "       5, 0, 1, 5, 5, 2, 0, 5, 5, 0, 2, 5, 4, 2, 4, 4, 0, 0, 3, 4, 0, 1,\n",
       "       0, 3, 2, 4, 5, 4, 2, 1, 2, 3, 0, 0, 0, 2, 0, 3, 1, 3, 2, 2, 2, 4,\n",
       "       5, 1, 3, 3, 0, 5, 3, 0, 4, 0, 4, 0, 1, 4, 2, 0, 3, 2, 0, 4, 5, 1,\n",
       "       3, 0, 3, 5, 2, 0, 5, 3, 2, 3, 5, 4, 5, 1, 2, 1, 3, 1, 2, 3, 2, 3,\n",
       "       2, 0, 4, 1, 4, 4, 0, 0, 2, 5, 1, 4, 3, 2, 1, 1, 0, 4, 4, 5, 3, 4,\n",
       "       3, 3, 2, 1, 1, 1, 5, 0, 2, 1, 4, 2, 0, 3, 4, 4, 5, 2, 5, 3, 5, 4,\n",
       "       0, 0, 3, 3, 5, 3, 3, 3, 2, 3, 5, 2, 2, 0, 1, 3, 4, 2, 5, 4, 4, 3,\n",
       "       1, 3, 0, 2, 2, 1, 2, 5, 4, 3, 1, 4, 0, 3, 3, 4, 4, 5, 0, 0, 5, 5,\n",
       "       5, 0, 0, 3, 1, 3, 0, 3, 2, 2, 0, 0, 1, 3, 2, 5, 5, 0, 5, 0, 2, 3,\n",
       "       4, 1, 1, 5, 1, 4, 5, 5, 5, 5, 5, 5, 3, 2, 5, 3, 3, 5, 1, 5, 3, 2,\n",
       "       0, 1, 1, 0, 4, 0, 2, 0, 1, 5, 1, 3, 3, 4, 1, 4, 3, 0, 1, 3, 0, 1,\n",
       "       2, 4, 2, 1, 4, 1, 1, 3, 2, 5, 1, 3, 3, 0, 4, 0, 1, 1, 1, 0, 1, 3,\n",
       "       5, 3, 5, 0, 5, 1, 1, 2, 2, 4, 5, 3, 3, 0, 4, 5, 3, 2, 0, 0, 0, 1,\n",
       "       4, 3, 3, 4, 1, 5, 3, 2, 1, 3, 4, 1, 1, 5, 5, 3, 5, 2, 5, 0, 4, 0,\n",
       "       5, 4, 4, 0, 4, 3, 0, 2, 2, 5, 3, 1, 5, 0, 3, 3, 1, 2, 1, 3, 3, 5,\n",
       "       2, 5, 1, 5, 2, 5, 2, 2, 5, 1, 3, 0, 0, 1, 5, 2, 0, 0, 5, 2, 1, 2,\n",
       "       0, 0, 5, 5, 0, 2, 0, 0, 5, 5, 4, 1, 3, 1, 5, 0, 2, 2, 0, 3, 2, 3,\n",
       "       3, 1, 4, 0, 0, 2, 4, 3, 3, 5, 0, 2, 2, 1, 4, 3, 3, 1, 1, 1, 2, 4,\n",
       "       4, 1, 2, 3, 0, 1, 3, 2, 2, 5, 4, 5, 3, 1, 2, 3, 2, 0, 1, 0, 2, 2,\n",
       "       3, 2, 1, 4, 5, 2, 0, 1, 0, 4, 3, 0, 5, 3, 4, 3, 1, 1, 0, 3, 4, 4,\n",
       "       5, 3, 0, 1, 5, 3, 3, 2, 4, 2, 5, 1, 2, 1, 4, 4, 2, 1, 5, 2, 1, 4,\n",
       "       5, 4, 0, 0, 3, 3, 3, 2, 2, 0, 1, 2, 3, 0, 2, 1, 3, 4, 0, 4, 4, 1,\n",
       "       4, 0, 3, 1, 0, 5, 3, 1, 2, 4, 2, 2, 2, 5, 4, 1, 1, 2, 3, 0, 4, 1,\n",
       "       3, 0, 0, 3, 4, 1, 2, 0, 2, 5, 1, 2, 2, 4, 4, 2, 4, 1, 3, 4, 0, 2,\n",
       "       4, 5, 2, 2, 1, 5, 1, 3, 5, 1, 2, 5, 3, 1, 2, 1, 3, 4, 0, 3, 1, 3,\n",
       "       1, 4, 2, 1, 5, 3, 1, 1, 4, 1, 1, 2, 3, 5, 5, 0, 2, 2, 0, 0, 3, 2,\n",
       "       4, 1, 0, 3, 1, 4, 2, 3, 4, 5, 4, 1, 0, 2, 1, 3, 0, 1, 0, 2, 3, 5,\n",
       "       1, 1, 0, 3, 0, 1, 2, 5, 2, 2, 4, 1, 3, 5, 3, 1, 1, 0, 3, 0, 4, 2,\n",
       "       2, 0, 2, 0, 3, 2, 2, 3, 1, 4, 1, 1, 5, 5, 5, 3, 3, 1, 2, 2, 3, 2,\n",
       "       3, 2, 5, 2, 1, 0, 2, 2, 2, 0, 3, 4, 5, 5, 3, 0, 3, 4, 1, 1, 0, 2,\n",
       "       3, 1, 1, 0, 0, 3, 5, 2, 0, 0, 1, 2, 0, 5, 3, 3, 3, 4, 3, 2, 3, 2,\n",
       "       3, 1, 2, 5, 0, 1, 0, 4, 3, 3, 2, 2, 5, 1, 3, 4, 0, 1, 3, 1, 2, 3,\n",
       "       1, 2, 0, 0, 3, 2, 1, 4, 0, 4, 1, 1, 0, 5, 5, 1, 2, 4, 0, 1, 2, 4,\n",
       "       1, 3, 4, 1, 4, 3, 2, 3, 0, 0, 4, 3, 0, 1, 5, 0, 3, 4, 4, 5, 3, 0,\n",
       "       3, 2, 4, 2, 0, 5, 3, 1, 0, 0, 2, 4, 1, 0, 5, 3, 5, 3, 2, 5, 3, 1,\n",
       "       5, 2, 3, 5, 5, 3, 0, 5, 1, 2, 2, 0, 5, 0, 2, 3, 3, 5, 1, 0, 1, 2,\n",
       "       3, 5, 5, 0, 2, 2, 0, 1, 3, 0])"
      ]
     },
     "execution_count": 47,
     "metadata": {},
     "output_type": "execute_result"
    }
   ],
   "source": [
    "np.argmax(result[1:], axis=-1)"
   ]
  },
  {
   "cell_type": "code",
   "execution_count": 48,
   "metadata": {},
   "outputs": [
    {
     "name": "stdout",
     "output_type": "stream",
     "text": [
      "Time taken = 5.5103535652160645\n"
     ]
    }
   ],
   "source": [
    "print('Time taken = ' + str(timeend - timestart))"
   ]
  },
  {
   "cell_type": "code",
   "execution_count": null,
   "metadata": {},
   "outputs": [],
   "source": []
  },
  {
   "cell_type": "code",
   "execution_count": null,
   "metadata": {},
   "outputs": [],
   "source": []
  }
 ],
 "metadata": {
  "kernelspec": {
   "display_name": "Python 3",
   "language": "python",
   "name": "python3"
  },
  "language_info": {
   "codemirror_mode": {
    "name": "ipython",
    "version": 3
   },
   "file_extension": ".py",
   "mimetype": "text/x-python",
   "name": "python",
   "nbconvert_exporter": "python",
   "pygments_lexer": "ipython3",
   "version": "3.6.5"
  }
 },
 "nbformat": 4,
 "nbformat_minor": 2
}
